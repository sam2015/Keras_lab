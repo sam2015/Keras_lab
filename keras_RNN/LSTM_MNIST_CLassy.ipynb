{
 "cells": [
  {
   "cell_type": "code",
   "execution_count": 1,
   "metadata": {
    "collapsed": false
   },
   "outputs": [
    {
     "name": "stdout",
     "output_type": "stream",
     "text": [
      "Extracting MNIST_data/train-images-idx3-ubyte.gz\n",
      "Extracting MNIST_data/train-labels-idx1-ubyte.gz\n",
      "Extracting MNIST_data/t10k-images-idx3-ubyte.gz\n",
      "Extracting MNIST_data/t10k-labels-idx1-ubyte.gz\n"
     ]
    }
   ],
   "source": [
    "import tensorflow as tf\n",
    "from tensorflow.contrib import rnn\n",
    "import numpy as np\n",
    "\n",
    "# Import MINST data\n",
    "from tensorflow.examples.tutorials.mnist import input_data\n",
    "mnist = input_data.read_data_sets(\"MNIST_data/\", one_hot=True)"
   ]
  },
  {
   "cell_type": "code",
   "execution_count": 3,
   "metadata": {
    "collapsed": false
   },
   "outputs": [],
   "source": [
    "# Parameters\n",
    "learning_rate = 0.001\n",
    "training_iters = 100000\n",
    "batch_size = 128\n",
    "display_step = 10\n",
    "\n",
    "# Network Parameters\n",
    "n_input = 28 # MNIST data input (img shape: 28*28)\n",
    "n_steps = 28 # timesteps\n",
    "n_hidden = 128 # hidden layer num of features\n",
    "n_classes = 10 # MNIST total classes (0-9 digits)\n",
    "\n",
    "# tf Graph input\n",
    "x = tf.placeholder(\"float\", [None, n_steps, n_input])\n",
    "y = tf.placeholder(\"float\", [None, n_classes])\n",
    "\n",
    "# Define weights\n",
    "weights = {\n",
    "    'out': tf.Variable(tf.random_normal([n_hidden, n_classes]))\n",
    "}\n",
    "biases = {\n",
    "    'out': tf.Variable(tf.random_normal([n_classes]))\n",
    "}"
   ]
  },
  {
   "cell_type": "code",
   "execution_count": 4,
   "metadata": {
    "collapsed": true
   },
   "outputs": [],
   "source": [
    "def RNN(x, weights, biases):\n",
    "\n",
    "    # Prepare data shape to match `rnn` function requirements\n",
    "    # Current data input shape: (batch_size, n_steps, n_input)\n",
    "    # Required shape: 'n_steps' tensors list of shape (batch_size, n_input)\n",
    "    \n",
    "    # Permuting batch_size and n_steps\n",
    "    x = tf.transpose(x, [1, 0, 2])\n",
    "    # Reshaping to (n_steps*batch_size, n_input)\n",
    "    x = tf.reshape(x, [-1, n_input])\n",
    "    # Split to get a list of 'n_steps' tensors of shape (batch_size, n_input)\n",
    "    x = tf.split(x, n_steps, 0)\n",
    "\n",
    "    # Define a lstm cell with tensorflow\n",
    "    lstm_cell = rnn.BasicLSTMCell(n_hidden, forget_bias=1.0)\n",
    "\n",
    "    # Get lstm cell output\n",
    "    outputs, states = rnn.static_rnn(lstm_cell, x, dtype=tf.float32)\n",
    "\n",
    "    # Linear activation, using rnn inner loop last output\n",
    "    return tf.matmul(outputs[-1], weights['out']) + biases['out']\n",
    "\n",
    "pred = RNN(x, weights, biases)\n",
    "\n",
    "# Define loss and optimizer\n",
    "cost = tf.reduce_mean(tf.nn.softmax_cross_entropy_with_logits(logits=pred, labels=y))\n",
    "optimizer = tf.train.AdamOptimizer(learning_rate=learning_rate).minimize(cost)\n",
    "\n",
    "# Evaluate model\n",
    "correct_pred = tf.equal(tf.argmax(pred,1), tf.argmax(y,1))\n",
    "accuracy = tf.reduce_mean(tf.cast(correct_pred, tf.float32))\n",
    "\n",
    "# Initializing the variables\n",
    "init = tf.global_variables_initializer()"
   ]
  },
  {
   "cell_type": "code",
   "execution_count": 5,
   "metadata": {
    "collapsed": false
   },
   "outputs": [
    {
     "name": "stdout",
     "output_type": "stream",
     "text": [
      "Iter 1280, Minibatch Loss= 1.941734, Training Accuracy= 0.36719\n",
      "Iter 2560, Minibatch Loss= 1.760358, Training Accuracy= 0.50000\n",
      "Iter 3840, Minibatch Loss= 1.299043, Training Accuracy= 0.53125\n",
      "Iter 5120, Minibatch Loss= 1.069847, Training Accuracy= 0.61719\n",
      "Iter 6400, Minibatch Loss= 0.861057, Training Accuracy= 0.71094\n",
      "Iter 7680, Minibatch Loss= 1.161211, Training Accuracy= 0.57812\n",
      "Iter 8960, Minibatch Loss= 0.798661, Training Accuracy= 0.73438\n",
      "Iter 10240, Minibatch Loss= 0.743708, Training Accuracy= 0.74219\n",
      "Iter 11520, Minibatch Loss= 0.397494, Training Accuracy= 0.89062\n",
      "Iter 12800, Minibatch Loss= 0.664138, Training Accuracy= 0.75781\n",
      "Iter 14080, Minibatch Loss= 0.538898, Training Accuracy= 0.84375\n",
      "Iter 15360, Minibatch Loss= 0.421613, Training Accuracy= 0.86719\n",
      "Iter 16640, Minibatch Loss= 0.514186, Training Accuracy= 0.87500\n",
      "Iter 17920, Minibatch Loss= 0.298281, Training Accuracy= 0.91406\n",
      "Iter 19200, Minibatch Loss= 0.308404, Training Accuracy= 0.87500\n",
      "Iter 20480, Minibatch Loss= 0.201747, Training Accuracy= 0.93750\n",
      "Iter 21760, Minibatch Loss= 0.540905, Training Accuracy= 0.80469\n",
      "Iter 23040, Minibatch Loss= 0.143755, Training Accuracy= 0.93750\n",
      "Iter 24320, Minibatch Loss= 0.440847, Training Accuracy= 0.86719\n",
      "Iter 25600, Minibatch Loss= 0.465458, Training Accuracy= 0.85156\n",
      "Iter 26880, Minibatch Loss= 0.254600, Training Accuracy= 0.91406\n",
      "Iter 28160, Minibatch Loss= 0.324544, Training Accuracy= 0.85938\n",
      "Iter 29440, Minibatch Loss= 0.319414, Training Accuracy= 0.90625\n",
      "Iter 30720, Minibatch Loss= 0.372846, Training Accuracy= 0.85938\n",
      "Iter 32000, Minibatch Loss= 0.219886, Training Accuracy= 0.92188\n",
      "Iter 33280, Minibatch Loss= 0.279358, Training Accuracy= 0.91406\n",
      "Iter 34560, Minibatch Loss= 0.317887, Training Accuracy= 0.88281\n",
      "Iter 35840, Minibatch Loss= 0.218977, Training Accuracy= 0.94531\n",
      "Iter 37120, Minibatch Loss= 0.358620, Training Accuracy= 0.89844\n",
      "Iter 38400, Minibatch Loss= 0.119841, Training Accuracy= 0.95312\n",
      "Iter 39680, Minibatch Loss= 0.224757, Training Accuracy= 0.94531\n",
      "Iter 40960, Minibatch Loss= 0.310583, Training Accuracy= 0.89844\n",
      "Iter 42240, Minibatch Loss= 0.199154, Training Accuracy= 0.92969\n",
      "Iter 43520, Minibatch Loss= 0.204610, Training Accuracy= 0.94531\n",
      "Iter 44800, Minibatch Loss= 0.171322, Training Accuracy= 0.96094\n",
      "Iter 46080, Minibatch Loss= 0.160996, Training Accuracy= 0.93750\n",
      "Iter 47360, Minibatch Loss= 0.281505, Training Accuracy= 0.91406\n",
      "Iter 48640, Minibatch Loss= 0.256637, Training Accuracy= 0.92969\n",
      "Iter 49920, Minibatch Loss= 0.272958, Training Accuracy= 0.88281\n",
      "Iter 51200, Minibatch Loss= 0.113441, Training Accuracy= 0.95312\n",
      "Iter 52480, Minibatch Loss= 0.190690, Training Accuracy= 0.94531\n",
      "Iter 53760, Minibatch Loss= 0.113993, Training Accuracy= 0.96875\n",
      "Iter 55040, Minibatch Loss= 0.251972, Training Accuracy= 0.92188\n",
      "Iter 56320, Minibatch Loss= 0.136299, Training Accuracy= 0.94531\n",
      "Iter 57600, Minibatch Loss= 0.163935, Training Accuracy= 0.96094\n",
      "Iter 58880, Minibatch Loss= 0.275674, Training Accuracy= 0.91406\n",
      "Iter 60160, Minibatch Loss= 0.136993, Training Accuracy= 0.96875\n",
      "Iter 61440, Minibatch Loss= 0.151591, Training Accuracy= 0.96094\n",
      "Iter 62720, Minibatch Loss= 0.133291, Training Accuracy= 0.95312\n",
      "Iter 64000, Minibatch Loss= 0.113247, Training Accuracy= 0.95312\n",
      "Iter 65280, Minibatch Loss= 0.153903, Training Accuracy= 0.94531\n",
      "Iter 66560, Minibatch Loss= 0.090020, Training Accuracy= 0.97656\n",
      "Iter 67840, Minibatch Loss= 0.154320, Training Accuracy= 0.94531\n",
      "Iter 69120, Minibatch Loss= 0.151984, Training Accuracy= 0.95312\n",
      "Iter 70400, Minibatch Loss= 0.127014, Training Accuracy= 0.97656\n",
      "Iter 71680, Minibatch Loss= 0.105667, Training Accuracy= 0.98438\n",
      "Iter 72960, Minibatch Loss= 0.081196, Training Accuracy= 0.98438\n",
      "Iter 74240, Minibatch Loss= 0.124744, Training Accuracy= 0.97656\n",
      "Iter 75520, Minibatch Loss= 0.066895, Training Accuracy= 0.96875\n",
      "Iter 76800, Minibatch Loss= 0.161404, Training Accuracy= 0.95312\n",
      "Iter 78080, Minibatch Loss= 0.126128, Training Accuracy= 0.92969\n",
      "Iter 79360, Minibatch Loss= 0.199509, Training Accuracy= 0.92969\n",
      "Iter 80640, Minibatch Loss= 0.150633, Training Accuracy= 0.95312\n",
      "Iter 81920, Minibatch Loss= 0.142581, Training Accuracy= 0.95312\n",
      "Iter 83200, Minibatch Loss= 0.165350, Training Accuracy= 0.96094\n",
      "Iter 84480, Minibatch Loss= 0.173115, Training Accuracy= 0.95312\n",
      "Iter 85760, Minibatch Loss= 0.170179, Training Accuracy= 0.93750\n",
      "Iter 87040, Minibatch Loss= 0.085245, Training Accuracy= 0.96875\n",
      "Iter 88320, Minibatch Loss= 0.069628, Training Accuracy= 0.98438\n",
      "Iter 89600, Minibatch Loss= 0.121858, Training Accuracy= 0.96094\n",
      "Iter 90880, Minibatch Loss= 0.167231, Training Accuracy= 0.94531\n",
      "Iter 92160, Minibatch Loss= 0.088958, Training Accuracy= 0.96094\n",
      "Iter 93440, Minibatch Loss= 0.070101, Training Accuracy= 0.98438\n",
      "Iter 94720, Minibatch Loss= 0.064868, Training Accuracy= 0.97656\n",
      "Iter 96000, Minibatch Loss= 0.060498, Training Accuracy= 0.98438\n",
      "Iter 97280, Minibatch Loss= 0.113122, Training Accuracy= 0.96094\n",
      "Iter 98560, Minibatch Loss= 0.048974, Training Accuracy= 0.98438\n",
      "Iter 99840, Minibatch Loss= 0.126392, Training Accuracy= 0.96094\n",
      "Optimization Finished!\n",
      "Testing Accuracy: 0.984375\n"
     ]
    }
   ],
   "source": [
    "# Launch the graph\n",
    "with tf.Session() as sess:\n",
    "    sess.run(init)\n",
    "    step = 1\n",
    "    # Keep training until reach max iterations\n",
    "    while step * batch_size < training_iters:\n",
    "        batch_x, batch_y = mnist.train.next_batch(batch_size)\n",
    "        # Reshape data to get 28 seq of 28 elements\n",
    "        batch_x = batch_x.reshape((batch_size, n_steps, n_input))\n",
    "        # Run optimization op (backprop)\n",
    "        sess.run(optimizer, feed_dict={x: batch_x, y: batch_y})\n",
    "        if step % display_step == 0:\n",
    "            # Calculate batch accuracy\n",
    "            acc = sess.run(accuracy, feed_dict={x: batch_x, y: batch_y})\n",
    "            # Calculate batch loss\n",
    "            loss = sess.run(cost, feed_dict={x: batch_x, y: batch_y})\n",
    "            print \"Iter \" + str(step*batch_size) + \", Minibatch Loss= \" + \\\n",
    "                  \"{:.6f}\".format(loss) + \", Training Accuracy= \" + \\\n",
    "                  \"{:.5f}\".format(acc)\n",
    "        step += 1\n",
    "    print \"Optimization Finished!\"\n",
    "\n",
    "    # Calculate accuracy for 128 mnist test images\n",
    "    test_len = 128\n",
    "    test_data = mnist.test.images[:test_len].reshape((-1, n_steps, n_input))\n",
    "    test_label = mnist.test.labels[:test_len]\n",
    "    print \"Testing Accuracy:\", \\\n",
    "        sess.run(accuracy, feed_dict={x: test_data, y: test_label})"
   ]
  }
 ],
 "metadata": {
  "kernelspec": {
   "display_name": "Python 2",
   "language": "python",
   "name": "python2"
  },
  "language_info": {
   "codemirror_mode": {
    "name": "ipython",
    "version": 2
   },
   "file_extension": ".py",
   "mimetype": "text/x-python",
   "name": "python",
   "nbconvert_exporter": "python",
   "pygments_lexer": "ipython2",
   "version": "2.7.12"
  },
  "widgets": {
   "state": {},
   "version": "1.1.2"
  }
 },
 "nbformat": 4,
 "nbformat_minor": 0
}
