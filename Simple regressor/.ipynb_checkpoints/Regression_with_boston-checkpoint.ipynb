{
 "cells": [
  {
   "cell_type": "code",
   "execution_count": 1,
   "metadata": {
    "collapsed": true
   },
   "outputs": [],
   "source": [
    "import os\n",
    "os.environ['KERAS_BACKEND'] = 'theano'"
   ]
  },
  {
   "cell_type": "code",
   "execution_count": 2,
   "metadata": {
    "collapsed": false
   },
   "outputs": [
    {
     "name": "stderr",
     "output_type": "stream",
     "text": [
      "Using Theano backend.\n"
     ]
    }
   ],
   "source": [
    "from sklearn.datasets import load_boston\n",
    "from sklearn.preprocessing import MinMaxScaler\n",
    "from keras.models import Sequential\n",
    "from keras.layers import Dense\n",
    "import numpy as np\n",
    "import pandas as pd"
   ]
  },
  {
   "cell_type": "code",
   "execution_count": 3,
   "metadata": {
    "collapsed": true
   },
   "outputs": [],
   "source": [
    "data = load_boston()"
   ]
  },
  {
   "cell_type": "code",
   "execution_count": 4,
   "metadata": {
    "collapsed": false
   },
   "outputs": [
    {
     "data": {
      "text/plain": [
       "['data', 'feature_names', 'DESCR', 'target']"
      ]
     },
     "execution_count": 4,
     "metadata": {},
     "output_type": "execute_result"
    }
   ],
   "source": [
    "data.keys()"
   ]
  },
  {
   "cell_type": "code",
   "execution_count": 5,
   "metadata": {
    "collapsed": false
   },
   "outputs": [
    {
     "data": {
      "text/html": [
       "<div>\n",
       "<table border=\"1\" class=\"dataframe\">\n",
       "  <thead>\n",
       "    <tr style=\"text-align: right;\">\n",
       "      <th></th>\n",
       "      <th>CRIM</th>\n",
       "      <th>ZN</th>\n",
       "      <th>INDUS</th>\n",
       "      <th>CHAS</th>\n",
       "      <th>NOX</th>\n",
       "      <th>RM</th>\n",
       "      <th>AGE</th>\n",
       "      <th>DIS</th>\n",
       "      <th>RAD</th>\n",
       "      <th>TAX</th>\n",
       "      <th>PTRATIO</th>\n",
       "      <th>B</th>\n",
       "      <th>LSTAT</th>\n",
       "    </tr>\n",
       "  </thead>\n",
       "  <tbody>\n",
       "    <tr>\n",
       "      <th>0</th>\n",
       "      <td>0.00632</td>\n",
       "      <td>18.0</td>\n",
       "      <td>2.31</td>\n",
       "      <td>0.0</td>\n",
       "      <td>0.538</td>\n",
       "      <td>6.575</td>\n",
       "      <td>65.2</td>\n",
       "      <td>4.0900</td>\n",
       "      <td>1.0</td>\n",
       "      <td>296.0</td>\n",
       "      <td>15.3</td>\n",
       "      <td>396.90</td>\n",
       "      <td>4.98</td>\n",
       "    </tr>\n",
       "    <tr>\n",
       "      <th>1</th>\n",
       "      <td>0.02731</td>\n",
       "      <td>0.0</td>\n",
       "      <td>7.07</td>\n",
       "      <td>0.0</td>\n",
       "      <td>0.469</td>\n",
       "      <td>6.421</td>\n",
       "      <td>78.9</td>\n",
       "      <td>4.9671</td>\n",
       "      <td>2.0</td>\n",
       "      <td>242.0</td>\n",
       "      <td>17.8</td>\n",
       "      <td>396.90</td>\n",
       "      <td>9.14</td>\n",
       "    </tr>\n",
       "    <tr>\n",
       "      <th>2</th>\n",
       "      <td>0.02729</td>\n",
       "      <td>0.0</td>\n",
       "      <td>7.07</td>\n",
       "      <td>0.0</td>\n",
       "      <td>0.469</td>\n",
       "      <td>7.185</td>\n",
       "      <td>61.1</td>\n",
       "      <td>4.9671</td>\n",
       "      <td>2.0</td>\n",
       "      <td>242.0</td>\n",
       "      <td>17.8</td>\n",
       "      <td>392.83</td>\n",
       "      <td>4.03</td>\n",
       "    </tr>\n",
       "    <tr>\n",
       "      <th>3</th>\n",
       "      <td>0.03237</td>\n",
       "      <td>0.0</td>\n",
       "      <td>2.18</td>\n",
       "      <td>0.0</td>\n",
       "      <td>0.458</td>\n",
       "      <td>6.998</td>\n",
       "      <td>45.8</td>\n",
       "      <td>6.0622</td>\n",
       "      <td>3.0</td>\n",
       "      <td>222.0</td>\n",
       "      <td>18.7</td>\n",
       "      <td>394.63</td>\n",
       "      <td>2.94</td>\n",
       "    </tr>\n",
       "    <tr>\n",
       "      <th>4</th>\n",
       "      <td>0.06905</td>\n",
       "      <td>0.0</td>\n",
       "      <td>2.18</td>\n",
       "      <td>0.0</td>\n",
       "      <td>0.458</td>\n",
       "      <td>7.147</td>\n",
       "      <td>54.2</td>\n",
       "      <td>6.0622</td>\n",
       "      <td>3.0</td>\n",
       "      <td>222.0</td>\n",
       "      <td>18.7</td>\n",
       "      <td>396.90</td>\n",
       "      <td>5.33</td>\n",
       "    </tr>\n",
       "  </tbody>\n",
       "</table>\n",
       "</div>"
      ],
      "text/plain": [
       "      CRIM    ZN  INDUS  CHAS    NOX     RM   AGE     DIS  RAD    TAX  \\\n",
       "0  0.00632  18.0   2.31   0.0  0.538  6.575  65.2  4.0900  1.0  296.0   \n",
       "1  0.02731   0.0   7.07   0.0  0.469  6.421  78.9  4.9671  2.0  242.0   \n",
       "2  0.02729   0.0   7.07   0.0  0.469  7.185  61.1  4.9671  2.0  242.0   \n",
       "3  0.03237   0.0   2.18   0.0  0.458  6.998  45.8  6.0622  3.0  222.0   \n",
       "4  0.06905   0.0   2.18   0.0  0.458  7.147  54.2  6.0622  3.0  222.0   \n",
       "\n",
       "   PTRATIO       B  LSTAT  \n",
       "0     15.3  396.90   4.98  \n",
       "1     17.8  396.90   9.14  \n",
       "2     17.8  392.83   4.03  \n",
       "3     18.7  394.63   2.94  \n",
       "4     18.7  396.90   5.33  "
      ]
     },
     "execution_count": 5,
     "metadata": {},
     "output_type": "execute_result"
    }
   ],
   "source": [
    "df = pd.DataFrame(data.data, columns=data.feature_names)\n",
    "df.head()"
   ]
  },
  {
   "cell_type": "code",
   "execution_count": 6,
   "metadata": {
    "collapsed": false
   },
   "outputs": [
    {
     "data": {
      "text/plain": [
       "array([ 24. ,  21.6,  34.7,  33.4,  36.2])"
      ]
     },
     "execution_count": 6,
     "metadata": {},
     "output_type": "execute_result"
    }
   ],
   "source": [
    "data.target[:5]"
   ]
  },
  {
   "cell_type": "code",
   "execution_count": 7,
   "metadata": {
    "collapsed": true
   },
   "outputs": [],
   "source": [
    "x_train = data.data\n",
    "y_train = data.target"
   ]
  },
  {
   "cell_type": "code",
   "execution_count": 8,
   "metadata": {
    "collapsed": false
   },
   "outputs": [
    {
     "data": {
      "text/plain": [
       "((506, 13), (506,))"
      ]
     },
     "execution_count": 8,
     "metadata": {},
     "output_type": "execute_result"
    }
   ],
   "source": [
    "x_train.shape , y_train.shape"
   ]
  },
  {
   "cell_type": "code",
   "execution_count": 9,
   "metadata": {
    "collapsed": false
   },
   "outputs": [],
   "source": [
    "scalerx = MinMaxScaler(feature_range=(0,1))\n",
    "x_train = scalerx.fit_transform(x_train)"
   ]
  },
  {
   "cell_type": "code",
   "execution_count": 11,
   "metadata": {
    "collapsed": false
   },
   "outputs": [
    {
     "data": {
      "text/plain": [
       "array([ 0.        ,  0.18      ,  0.06781525,  0.        ,  0.31481481,\n",
       "        0.57750527,  0.64160659,  0.26920314,  0.        ,  0.20801527,\n",
       "        0.28723404,  1.        ,  0.08967991])"
      ]
     },
     "execution_count": 11,
     "metadata": {},
     "output_type": "execute_result"
    }
   ],
   "source": [
    "x_train[0]"
   ]
  },
  {
   "cell_type": "code",
   "execution_count": 12,
   "metadata": {
    "collapsed": false
   },
   "outputs": [
    {
     "name": "stderr",
     "output_type": "stream",
     "text": [
      "/home/sekhar/miniconda2/envs/ipy_env/lib/python2.7/site-packages/sklearn/preprocessing/data.py:321: DeprecationWarning: Passing 1d arrays as data is deprecated in 0.17 and will raise ValueError in 0.19. Reshape your data either using X.reshape(-1, 1) if your data has a single feature or X.reshape(1, -1) if it contains a single sample.\n",
      "  warnings.warn(DEPRECATION_MSG_1D, DeprecationWarning)\n",
      "/home/sekhar/miniconda2/envs/ipy_env/lib/python2.7/site-packages/sklearn/preprocessing/data.py:356: DeprecationWarning: Passing 1d arrays as data is deprecated in 0.17 and will raise ValueError in 0.19. Reshape your data either using X.reshape(-1, 1) if your data has a single feature or X.reshape(1, -1) if it contains a single sample.\n",
      "  warnings.warn(DEPRECATION_MSG_1D, DeprecationWarning)\n"
     ]
    }
   ],
   "source": [
    "scalery = MinMaxScaler(feature_range=(0,1))\n",
    "y_train = scalery.fit_transform(y_train)"
   ]
  },
  {
   "cell_type": "code",
   "execution_count": 15,
   "metadata": {
    "collapsed": false
   },
   "outputs": [
    {
     "data": {
      "text/plain": [
       "array([ 0.42222222,  0.36888889,  0.66      ,  0.63111111,  0.69333333])"
      ]
     },
     "execution_count": 15,
     "metadata": {},
     "output_type": "execute_result"
    }
   ],
   "source": [
    "y_train[:5]"
   ]
  },
  {
   "cell_type": "code",
   "execution_count": 18,
   "metadata": {
    "collapsed": false
   },
   "outputs": [
    {
     "name": "stdout",
     "output_type": "stream",
     "text": [
      "____________________________________________________________________________________________________\n",
      "Layer (type)                     Output Shape          Param #     Connected to                     \n",
      "====================================================================================================\n",
      "dense_2 (Dense)                  (None, 1)             14          dense_input_2[0][0]              \n",
      "====================================================================================================\n",
      "Total params: 14\n",
      "____________________________________________________________________________________________________\n"
     ]
    }
   ],
   "source": [
    "model = Sequential()\n",
    "model.add(Dense(input_dim=13, output_dim=1))\n",
    "\n",
    "model.compile(loss='mse', optimizer='sgd', metrics=['mse'])\n",
    "model.summary()"
   ]
  },
  {
   "cell_type": "code",
   "execution_count": 19,
   "metadata": {
    "collapsed": false
   },
   "outputs": [
    {
     "name": "stdout",
     "output_type": "stream",
     "text": [
      "Epoch 1/100\n",
      "0s - loss: 0.1493 - mean_squared_error: 0.1493\n",
      "Epoch 2/100\n",
      "0s - loss: 0.0943 - mean_squared_error: 0.0943\n",
      "Epoch 3/100\n",
      "0s - loss: 0.0836 - mean_squared_error: 0.0836\n",
      "Epoch 4/100\n",
      "0s - loss: 0.0775 - mean_squared_error: 0.0775\n",
      "Epoch 5/100\n",
      "0s - loss: 0.0729 - mean_squared_error: 0.0729\n",
      "Epoch 6/100\n",
      "0s - loss: 0.0690 - mean_squared_error: 0.0690\n",
      "Epoch 7/100\n",
      "0s - loss: 0.0657 - mean_squared_error: 0.0657\n",
      "Epoch 8/100\n",
      "0s - loss: 0.0629 - mean_squared_error: 0.0629\n",
      "Epoch 9/100\n",
      "0s - loss: 0.0607 - mean_squared_error: 0.0607\n",
      "Epoch 10/100\n",
      "0s - loss: 0.0586 - mean_squared_error: 0.0586\n",
      "Epoch 11/100\n",
      "0s - loss: 0.0569 - mean_squared_error: 0.0569\n",
      "Epoch 12/100\n",
      "0s - loss: 0.0554 - mean_squared_error: 0.0554\n",
      "Epoch 13/100\n",
      "0s - loss: 0.0541 - mean_squared_error: 0.0541\n",
      "Epoch 14/100\n",
      "0s - loss: 0.0529 - mean_squared_error: 0.0529\n",
      "Epoch 15/100\n",
      "0s - loss: 0.0519 - mean_squared_error: 0.0519\n",
      "Epoch 16/100\n",
      "0s - loss: 0.0510 - mean_squared_error: 0.0510\n",
      "Epoch 17/100\n",
      "0s - loss: 0.0501 - mean_squared_error: 0.0501\n",
      "Epoch 18/100\n",
      "0s - loss: 0.0493 - mean_squared_error: 0.0493\n",
      "Epoch 19/100\n",
      "0s - loss: 0.0485 - mean_squared_error: 0.0485\n",
      "Epoch 20/100\n",
      "0s - loss: 0.0478 - mean_squared_error: 0.0478\n",
      "Epoch 21/100\n",
      "0s - loss: 0.0472 - mean_squared_error: 0.0472\n",
      "Epoch 22/100\n",
      "0s - loss: 0.0466 - mean_squared_error: 0.0466\n",
      "Epoch 23/100\n",
      "0s - loss: 0.0460 - mean_squared_error: 0.0460\n",
      "Epoch 24/100\n",
      "0s - loss: 0.0454 - mean_squared_error: 0.0454\n",
      "Epoch 25/100\n",
      "0s - loss: 0.0448 - mean_squared_error: 0.0448\n",
      "Epoch 26/100\n",
      "0s - loss: 0.0443 - mean_squared_error: 0.0443\n",
      "Epoch 27/100\n",
      "0s - loss: 0.0438 - mean_squared_error: 0.0438\n",
      "Epoch 28/100\n",
      "0s - loss: 0.0434 - mean_squared_error: 0.0434\n",
      "Epoch 29/100\n",
      "0s - loss: 0.0428 - mean_squared_error: 0.0428\n",
      "Epoch 30/100\n",
      "0s - loss: 0.0424 - mean_squared_error: 0.0424\n",
      "Epoch 31/100\n",
      "0s - loss: 0.0419 - mean_squared_error: 0.0419\n",
      "Epoch 32/100\n",
      "0s - loss: 0.0415 - mean_squared_error: 0.0415\n",
      "Epoch 33/100\n",
      "0s - loss: 0.0411 - mean_squared_error: 0.0411\n",
      "Epoch 34/100\n",
      "0s - loss: 0.0407 - mean_squared_error: 0.0407\n",
      "Epoch 35/100\n",
      "0s - loss: 0.0403 - mean_squared_error: 0.0403\n",
      "Epoch 36/100\n",
      "0s - loss: 0.0399 - mean_squared_error: 0.0399\n",
      "Epoch 37/100\n",
      "0s - loss: 0.0395 - mean_squared_error: 0.0395\n",
      "Epoch 38/100\n",
      "0s - loss: 0.0391 - mean_squared_error: 0.0391\n",
      "Epoch 39/100\n",
      "0s - loss: 0.0387 - mean_squared_error: 0.0387\n",
      "Epoch 40/100\n",
      "0s - loss: 0.0384 - mean_squared_error: 0.0384\n",
      "Epoch 41/100\n",
      "0s - loss: 0.0381 - mean_squared_error: 0.0381\n",
      "Epoch 42/100\n",
      "0s - loss: 0.0377 - mean_squared_error: 0.0377\n",
      "Epoch 43/100\n",
      "0s - loss: 0.0374 - mean_squared_error: 0.0374\n",
      "Epoch 44/100\n",
      "0s - loss: 0.0370 - mean_squared_error: 0.0370\n",
      "Epoch 45/100\n",
      "0s - loss: 0.0366 - mean_squared_error: 0.0366\n",
      "Epoch 46/100\n",
      "0s - loss: 0.0363 - mean_squared_error: 0.0363\n",
      "Epoch 47/100\n",
      "0s - loss: 0.0361 - mean_squared_error: 0.0361\n",
      "Epoch 48/100\n",
      "0s - loss: 0.0358 - mean_squared_error: 0.0358\n",
      "Epoch 49/100\n",
      "0s - loss: 0.0355 - mean_squared_error: 0.0355\n",
      "Epoch 50/100\n",
      "0s - loss: 0.0352 - mean_squared_error: 0.0352\n",
      "Epoch 51/100\n",
      "0s - loss: 0.0348 - mean_squared_error: 0.0348\n",
      "Epoch 52/100\n",
      "0s - loss: 0.0345 - mean_squared_error: 0.0345\n",
      "Epoch 53/100\n",
      "0s - loss: 0.0343 - mean_squared_error: 0.0343\n",
      "Epoch 54/100\n",
      "0s - loss: 0.0340 - mean_squared_error: 0.0340\n",
      "Epoch 55/100\n",
      "0s - loss: 0.0337 - mean_squared_error: 0.0337\n",
      "Epoch 56/100\n",
      "0s - loss: 0.0335 - mean_squared_error: 0.0335\n",
      "Epoch 57/100\n",
      "0s - loss: 0.0332 - mean_squared_error: 0.0332\n",
      "Epoch 58/100\n",
      "0s - loss: 0.0330 - mean_squared_error: 0.0330\n",
      "Epoch 59/100\n",
      "0s - loss: 0.0326 - mean_squared_error: 0.0326\n",
      "Epoch 60/100\n",
      "0s - loss: 0.0324 - mean_squared_error: 0.0324\n",
      "Epoch 61/100\n",
      "0s - loss: 0.0322 - mean_squared_error: 0.0322\n",
      "Epoch 62/100\n",
      "0s - loss: 0.0320 - mean_squared_error: 0.0320\n",
      "Epoch 63/100\n",
      "0s - loss: 0.0317 - mean_squared_error: 0.0317\n",
      "Epoch 64/100\n",
      "0s - loss: 0.0315 - mean_squared_error: 0.0315\n",
      "Epoch 65/100\n",
      "0s - loss: 0.0313 - mean_squared_error: 0.0313\n",
      "Epoch 66/100\n",
      "0s - loss: 0.0310 - mean_squared_error: 0.0310\n",
      "Epoch 67/100\n",
      "0s - loss: 0.0309 - mean_squared_error: 0.0309\n",
      "Epoch 68/100\n",
      "0s - loss: 0.0307 - mean_squared_error: 0.0307\n",
      "Epoch 69/100\n",
      "0s - loss: 0.0304 - mean_squared_error: 0.0304\n",
      "Epoch 70/100\n",
      "0s - loss: 0.0302 - mean_squared_error: 0.0302\n",
      "Epoch 71/100\n",
      "0s - loss: 0.0300 - mean_squared_error: 0.0300\n",
      "Epoch 72/100\n",
      "0s - loss: 0.0298 - mean_squared_error: 0.0298\n",
      "Epoch 73/100\n",
      "0s - loss: 0.0296 - mean_squared_error: 0.0296\n",
      "Epoch 74/100\n",
      "0s - loss: 0.0294 - mean_squared_error: 0.0294\n",
      "Epoch 75/100\n",
      "0s - loss: 0.0292 - mean_squared_error: 0.0292\n",
      "Epoch 76/100\n",
      "0s - loss: 0.0290 - mean_squared_error: 0.0290\n",
      "Epoch 77/100\n",
      "0s - loss: 0.0288 - mean_squared_error: 0.0288\n",
      "Epoch 78/100\n",
      "0s - loss: 0.0287 - mean_squared_error: 0.0287\n",
      "Epoch 79/100\n",
      "0s - loss: 0.0285 - mean_squared_error: 0.0285\n",
      "Epoch 80/100\n",
      "0s - loss: 0.0283 - mean_squared_error: 0.0283\n",
      "Epoch 81/100\n",
      "0s - loss: 0.0281 - mean_squared_error: 0.0281\n",
      "Epoch 82/100\n",
      "0s - loss: 0.0280 - mean_squared_error: 0.0280\n",
      "Epoch 83/100\n",
      "0s - loss: 0.0278 - mean_squared_error: 0.0278\n",
      "Epoch 84/100\n",
      "0s - loss: 0.0276 - mean_squared_error: 0.0276\n",
      "Epoch 85/100\n",
      "0s - loss: 0.0274 - mean_squared_error: 0.0274\n",
      "Epoch 86/100\n",
      "0s - loss: 0.0273 - mean_squared_error: 0.0273\n",
      "Epoch 87/100\n",
      "0s - loss: 0.0271 - mean_squared_error: 0.0271\n",
      "Epoch 88/100\n",
      "0s - loss: 0.0270 - mean_squared_error: 0.0270\n",
      "Epoch 89/100\n",
      "0s - loss: 0.0268 - mean_squared_error: 0.0268\n",
      "Epoch 90/100\n",
      "0s - loss: 0.0266 - mean_squared_error: 0.0266\n",
      "Epoch 91/100\n",
      "0s - loss: 0.0265 - mean_squared_error: 0.0265\n",
      "Epoch 92/100\n",
      "0s - loss: 0.0264 - mean_squared_error: 0.0264\n",
      "Epoch 93/100\n",
      "0s - loss: 0.0262 - mean_squared_error: 0.0262\n",
      "Epoch 94/100\n",
      "0s - loss: 0.0261 - mean_squared_error: 0.0261\n",
      "Epoch 95/100\n",
      "0s - loss: 0.0259 - mean_squared_error: 0.0259\n",
      "Epoch 96/100\n",
      "0s - loss: 0.0258 - mean_squared_error: 0.0258\n",
      "Epoch 97/100\n",
      "0s - loss: 0.0256 - mean_squared_error: 0.0256\n",
      "Epoch 98/100\n",
      "0s - loss: 0.0255 - mean_squared_error: 0.0255\n",
      "Epoch 99/100\n",
      "0s - loss: 0.0253 - mean_squared_error: 0.0253\n",
      "Epoch 100/100\n",
      "0s - loss: 0.0252 - mean_squared_error: 0.0252\n"
     ]
    },
    {
     "data": {
      "text/plain": [
       "<keras.callbacks.History at 0xac19084c>"
      ]
     },
     "execution_count": 19,
     "metadata": {},
     "output_type": "execute_result"
    }
   ],
   "source": [
    "model.fit(x_train, y_train, nb_epoch=100, verbose=2)"
   ]
  },
  {
   "cell_type": "code",
   "execution_count": 31,
   "metadata": {
    "collapsed": false
   },
   "outputs": [
    {
     "name": "stdout",
     "output_type": "stream",
     "text": [
      "real y : 0.526666666667  predicted y : [ 0.54446769]\n"
     ]
    }
   ],
   "source": [
    "predict = model.predict(x_train)\n",
    "print \"real y : \" + str(y_train[5]) + \"  predicted y : \" + str(predict[5])"
   ]
  },
  {
   "cell_type": "code",
   "execution_count": 39,
   "metadata": {
    "collapsed": false
   },
   "outputs": [],
   "source": [
    "from sklearn.manifold import TSNE\n",
    "tsne = TSNE(n_components=2)\n",
    "\n",
    "x_tsne = tsne.fit_transform(x_train)"
   ]
  },
  {
   "cell_type": "code",
   "execution_count": 36,
   "metadata": {
    "collapsed": true
   },
   "outputs": [],
   "source": [
    "import matplotlib.pyplot as plt\n",
    "%matplotlib inline"
   ]
  },
  {
   "cell_type": "code",
   "execution_count": 42,
   "metadata": {
    "collapsed": false
   },
   "outputs": [
    {
     "data": {
      "text/plain": [
       "[<matplotlib.lines.Line2D at 0xa8d133ec>]"
      ]
     },
     "execution_count": 42,
     "metadata": {},
     "output_type": "execute_result"
    },
    {
     "data": {
      "image/png": "[encoded data removed]",
      "text/plain": [
       "<matplotlib.figure.Figure at 0xa8d134cc>"
      ]
     },
     "metadata": {},
     "output_type": "display_data"
    }
   ],
   "source": [
    "plt.scatter(x_tsne[:,0], x_tsne[:,1])\n",
    "plt.plot(x_tsne[:,0], predict)"
   ]
  }
 ],
 "metadata": {
  "kernelspec": {
   "display_name": "Python 2",
   "language": "python",
   "name": "python2"
  },
  "language_info": {
   "codemirror_mode": {
    "name": "ipython",
    "version": 2
   },
   "file_extension": ".py",
   "mimetype": "text/x-python",
   "name": "python",
   "nbconvert_exporter": "python",
   "pygments_lexer": "ipython2",
   "version": "2.7.12"
  }
 },
 "nbformat": 4,
 "nbformat_minor": 1
}
