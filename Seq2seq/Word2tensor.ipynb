{
 "cells": [
  {
   "cell_type": "code",
   "execution_count": 1,
   "metadata": {
    "collapsed": true
   },
   "outputs": [],
   "source": [
    "import string\n",
    "import numpy as np"
   ]
  },
  {
   "cell_type": "code",
   "execution_count": 2,
   "metadata": {
    "collapsed": false
   },
   "outputs": [],
   "source": [
    "BEGIN_SYMBOL = '^'\n",
    "END_SYMBOL = '$'\n",
    "BLANK = ' '\n",
    "CHAR_SET = set(string.ascii_lowercase + BEGIN_SYMBOL + END_SYMBOL + BLANK)\n",
    "CHAR_NUM = len(CHAR_SET)\n",
    "CHAR_TO_INDICES = {c:i for i, c in enumerate(CHAR_SET)}\n",
    "INDICES_TO_CHAR = {i:c for c, i in CHAR_TO_INDICES.iteritems()}"
   ]
  },
  {
   "cell_type": "code",
   "execution_count": 3,
   "metadata": {
    "collapsed": false
   },
   "outputs": [
    {
     "data": {
      "text/plain": [
       "{' ': 0,\n",
       " '$': 1,\n",
       " '^': 2,\n",
       " 'a': 3,\n",
       " 'b': 5,\n",
       " 'c': 4,\n",
       " 'd': 7,\n",
       " 'e': 6,\n",
       " 'f': 9,\n",
       " 'g': 8,\n",
       " 'h': 11,\n",
       " 'i': 10,\n",
       " 'j': 13,\n",
       " 'k': 12,\n",
       " 'l': 15,\n",
       " 'm': 14,\n",
       " 'n': 17,\n",
       " 'o': 16,\n",
       " 'p': 19,\n",
       " 'q': 18,\n",
       " 'r': 21,\n",
       " 's': 20,\n",
       " 't': 23,\n",
       " 'u': 22,\n",
       " 'v': 25,\n",
       " 'w': 24,\n",
       " 'x': 27,\n",
       " 'y': 26,\n",
       " 'z': 28}"
      ]
     },
     "execution_count": 3,
     "metadata": {},
     "output_type": "execute_result"
    }
   ],
   "source": [
    "CHAR_TO_INDICES"
   ]
  },
  {
   "cell_type": "code",
   "execution_count": 4,
   "metadata": {
    "collapsed": false
   },
   "outputs": [
    {
     "data": {
      "text/plain": [
       "{0: ' ',\n",
       " 1: '$',\n",
       " 2: '^',\n",
       " 3: 'a',\n",
       " 4: 'c',\n",
       " 5: 'b',\n",
       " 6: 'e',\n",
       " 7: 'd',\n",
       " 8: 'g',\n",
       " 9: 'f',\n",
       " 10: 'i',\n",
       " 11: 'h',\n",
       " 12: 'k',\n",
       " 13: 'j',\n",
       " 14: 'm',\n",
       " 15: 'l',\n",
       " 16: 'o',\n",
       " 17: 'n',\n",
       " 18: 'q',\n",
       " 19: 'p',\n",
       " 20: 's',\n",
       " 21: 'r',\n",
       " 22: 'u',\n",
       " 23: 't',\n",
       " 24: 'w',\n",
       " 25: 'v',\n",
       " 26: 'y',\n",
       " 27: 'x',\n",
       " 28: 'z'}"
      ]
     },
     "execution_count": 4,
     "metadata": {},
     "output_type": "execute_result"
    }
   ],
   "source": [
    "INDICES_TO_CHAR"
   ]
  },
  {
   "cell_type": "code",
   "execution_count": 5,
   "metadata": {
    "collapsed": true
   },
   "outputs": [],
   "source": [
    "def vectorize(word, seq_len, vec_size):\n",
    "    vec = np.zeros((seq_len, vec_size), dtype=int)\n",
    "    for i, ch in enumerate(word):\n",
    "        vec[i, CHAR_TO_INDICES[ch]] = 1\n",
    "\n",
    "    for i in range(len(word), seq_len):\n",
    "        vec[i, CHAR_TO_INDICES[END_SYMBOL]] = 1\n",
    "\n",
    "    return vec"
   ]
  },
  {
   "cell_type": "code",
   "execution_count": 8,
   "metadata": {
    "collapsed": false
   },
   "outputs": [
    {
     "data": {
      "text/plain": [
       "(1, 150, 29)"
      ]
     },
     "execution_count": 8,
     "metadata": {},
     "output_type": "execute_result"
    }
   ],
   "source": [
    "say = 'ewqwr qerqewr qrwrqwr qwrwqrqw rqwrqw rqwrqwr qwrwqrq wqrwqr qwrqwrqw'\n",
    "X = np.zeros((1,150, 29), dtype=int)\n",
    "Word = BEGIN_SYMBOL + say.lower().strip() + END_SYMBOL\n",
    "X[0] = vectorize(Word, 150, 29)\n",
    "X.shape"
   ]
  },
  {
   "cell_type": "code",
   "execution_count": 17,
   "metadata": {
    "collapsed": false
   },
   "outputs": [
    {
     "data": {
      "text/plain": [
       "array([1, 0, 0, 0, 0, 0, 0, 0, 0, 0, 0, 0, 0, 0, 0, 0, 0, 0, 0, 0, 0, 0, 0,\n",
       "       0, 0, 0, 0, 0, 0])"
      ]
     },
     "execution_count": 17,
     "metadata": {},
     "output_type": "execute_result"
    }
   ],
   "source": [
    "X[0][6]"
   ]
  },
  {
   "cell_type": "code",
   "execution_count": 18,
   "metadata": {
    "collapsed": false
   },
   "outputs": [
    {
     "name": "stdout",
     "output_type": "stream",
     "text": [
      "ewqwr qerqewr qrwrqwr qwrwqrqw rqwrqw rqwrqwr qwrwqrq wqrwqr qwrqwrqw\n"
     ]
    }
   ],
   "source": [
    "print ''.join([INDICES_TO_CHAR[i]\n",
    "               for i in X[0].argmax(axis=1)\n",
    "               if INDICES_TO_CHAR[i] not in (BEGIN_SYMBOL,END_SYMBOL)])"
   ]
  }
 ],
 "metadata": {
  "kernelspec": {
   "display_name": "Python 2",
   "language": "python",
   "name": "python2"
  },
  "language_info": {
   "codemirror_mode": {
    "name": "ipython",
    "version": 2
   },
   "file_extension": ".py",
   "mimetype": "text/x-python",
   "name": "python",
   "nbconvert_exporter": "python",
   "pygments_lexer": "ipython2",
   "version": "2.7.12"
  }
 },
 "nbformat": 4,
 "nbformat_minor": 1
}
