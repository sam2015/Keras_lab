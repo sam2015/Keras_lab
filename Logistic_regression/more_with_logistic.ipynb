{
 "cells": [
  {
   "cell_type": "code",
   "execution_count": 3,
   "metadata": {
    "collapsed": true
   },
   "outputs": [],
   "source": [
    "import os\n",
    "os.environ['KERAS_BACKEND'] = 'theano'"
   ]
  },
  {
   "cell_type": "code",
   "execution_count": 12,
   "metadata": {
    "collapsed": true
   },
   "outputs": [],
   "source": [
    "from keras.models import Sequential\n",
    "from keras.layers import Dense, Activation\n",
    "import numpy as np"
   ]
  },
  {
   "cell_type": "code",
   "execution_count": 6,
   "metadata": {
    "collapsed": true
   },
   "outputs": [],
   "source": [
    "x_data = np.array([[1, 2, 1, 1], [2, 1, 3, 2], [3, 1, 3, 4], [4, 1, 5, 5],\n",
    "                   [1, 7, 5, 5], [1, 2, 5, 6], [1, 6, 6, 6], [1, 7, 7, 7]], dtype=np.float32)\n",
    "y_data = np.array([[0, 0, 1], [0, 0, 1], [0, 0, 1], [0, 1, 0],\n",
    "                   [0, 1, 0], [0, 1, 0], [1, 0, 0], [1, 0, 0]], dtype=np.float32)\n"
   ]
  },
  {
   "cell_type": "code",
   "execution_count": 9,
   "metadata": {
    "collapsed": false
   },
   "outputs": [
    {
     "data": {
      "text/plain": [
       "((8, 4), (8, 3))"
      ]
     },
     "execution_count": 9,
     "metadata": {},
     "output_type": "execute_result"
    }
   ],
   "source": [
    "x_data.shape, y_data.shape"
   ]
  },
  {
   "cell_type": "code",
   "execution_count": 15,
   "metadata": {
    "collapsed": false
   },
   "outputs": [
    {
     "name": "stdout",
     "output_type": "stream",
     "text": [
      "____________________________________________________________________________________________________\n",
      "Layer (type)                     Output Shape          Param #     Connected to                     \n",
      "====================================================================================================\n",
      "dense_4 (Dense)                  (None, 3)             15          dense_input_4[0][0]              \n",
      "____________________________________________________________________________________________________\n",
      "activation_3 (Activation)        (None, 3)             0           dense_4[0][0]                    \n",
      "====================================================================================================\n",
      "Total params: 15\n",
      "____________________________________________________________________________________________________\n"
     ]
    }
   ],
   "source": [
    "model = Sequential()\n",
    "model.add(Dense(input_dim=4, output_dim=3))\n",
    "model.add(Activation('softmax'))\n",
    "\n",
    "model.summary()"
   ]
  },
  {
   "cell_type": "code",
   "execution_count": 17,
   "metadata": {
    "collapsed": false
   },
   "outputs": [
    {
     "name": "stdout",
     "output_type": "stream",
     "text": [
      "Epoch 1/100\n",
      "0s - loss: 4.2027 - acc: 0.2500\n",
      "Epoch 2/100\n",
      "0s - loss: 3.9322 - acc: 0.2500\n",
      "Epoch 3/100\n",
      "0s - loss: 3.6888 - acc: 0.2500\n",
      "Epoch 4/100\n",
      "0s - loss: 3.4787 - acc: 0.3750\n",
      "Epoch 5/100\n",
      "0s - loss: 3.3044 - acc: 0.3750\n",
      "Epoch 6/100\n",
      "0s - loss: 3.1639 - acc: 0.3750\n",
      "Epoch 7/100\n",
      "0s - loss: 3.0515 - acc: 0.3750\n",
      "Epoch 8/100\n",
      "0s - loss: 2.9601 - acc: 0.3750\n",
      "Epoch 9/100\n",
      "0s - loss: 2.8831 - acc: 0.3750\n",
      "Epoch 10/100\n",
      "0s - loss: 2.8154 - acc: 0.1250\n",
      "Epoch 11/100\n",
      "0s - loss: 2.7537 - acc: 0.1250\n",
      "Epoch 12/100\n",
      "0s - loss: 2.6958 - acc: 0.1250\n",
      "Epoch 13/100\n",
      "0s - loss: 2.6405 - acc: 0.1250\n",
      "Epoch 14/100\n",
      "0s - loss: 2.5869 - acc: 0.1250\n",
      "Epoch 15/100\n",
      "0s - loss: 2.5347 - acc: 0.1250\n",
      "Epoch 16/100\n",
      "0s - loss: 2.4835 - acc: 0.1250\n",
      "Epoch 17/100\n",
      "0s - loss: 2.4332 - acc: 0.1250\n",
      "Epoch 18/100\n",
      "0s - loss: 2.3837 - acc: 0.1250\n",
      "Epoch 19/100\n",
      "0s - loss: 2.3350 - acc: 0.1250\n",
      "Epoch 20/100\n",
      "0s - loss: 2.2870 - acc: 0.1250\n",
      "Epoch 21/100\n",
      "0s - loss: 2.2398 - acc: 0.1250\n",
      "Epoch 22/100\n",
      "0s - loss: 2.1933 - acc: 0.1250\n",
      "Epoch 23/100\n",
      "0s - loss: 2.1477 - acc: 0.1250\n",
      "Epoch 24/100\n",
      "0s - loss: 2.1029 - acc: 0.1250\n",
      "Epoch 25/100\n",
      "0s - loss: 2.0590 - acc: 0.1250\n",
      "Epoch 26/100\n",
      "0s - loss: 2.0161 - acc: 0.1250\n",
      "Epoch 27/100\n",
      "0s - loss: 1.9743 - acc: 0.1250\n",
      "Epoch 28/100\n",
      "0s - loss: 1.9337 - acc: 0.1250\n",
      "Epoch 29/100\n",
      "0s - loss: 1.8943 - acc: 0.1250\n",
      "Epoch 30/100\n",
      "0s - loss: 1.8563 - acc: 0.1250\n",
      "Epoch 31/100\n",
      "0s - loss: 1.8198 - acc: 0.1250\n",
      "Epoch 32/100\n",
      "0s - loss: 1.7848 - acc: 0.1250\n",
      "Epoch 33/100\n",
      "0s - loss: 1.7515 - acc: 0.1250\n",
      "Epoch 34/100\n",
      "0s - loss: 1.7200 - acc: 0.1250\n",
      "Epoch 35/100\n",
      "0s - loss: 1.6903 - acc: 0.1250\n",
      "Epoch 36/100\n",
      "0s - loss: 1.6624 - acc: 0.1250\n",
      "Epoch 37/100\n",
      "0s - loss: 1.6364 - acc: 0.1250\n",
      "Epoch 38/100\n",
      "0s - loss: 1.6123 - acc: 0.1250\n",
      "Epoch 39/100\n",
      "0s - loss: 1.5899 - acc: 0.1250\n",
      "Epoch 40/100\n",
      "0s - loss: 1.5691 - acc: 0.1250\n",
      "Epoch 41/100\n",
      "0s - loss: 1.5499 - acc: 0.1250\n",
      "Epoch 42/100\n",
      "0s - loss: 1.5320 - acc: 0.1250\n",
      "Epoch 43/100\n",
      "0s - loss: 1.5154 - acc: 0.1250\n",
      "Epoch 44/100\n",
      "0s - loss: 1.4998 - acc: 0.1250\n",
      "Epoch 45/100\n",
      "0s - loss: 1.4852 - acc: 0.1250\n",
      "Epoch 46/100\n",
      "0s - loss: 1.4713 - acc: 0.1250\n",
      "Epoch 47/100\n",
      "0s - loss: 1.4582 - acc: 0.1250\n",
      "Epoch 48/100\n",
      "0s - loss: 1.4456 - acc: 0.1250\n",
      "Epoch 49/100\n",
      "0s - loss: 1.4335 - acc: 0.1250\n",
      "Epoch 50/100\n",
      "0s - loss: 1.4218 - acc: 0.1250\n",
      "Epoch 51/100\n",
      "0s - loss: 1.4105 - acc: 0.1250\n",
      "Epoch 52/100\n",
      "0s - loss: 1.3995 - acc: 0.1250\n",
      "Epoch 53/100\n",
      "0s - loss: 1.3887 - acc: 0.2500\n",
      "Epoch 54/100\n",
      "0s - loss: 1.3782 - acc: 0.3750\n",
      "Epoch 55/100\n",
      "0s - loss: 1.3680 - acc: 0.3750\n",
      "Epoch 56/100\n",
      "0s - loss: 1.3579 - acc: 0.3750\n",
      "Epoch 57/100\n",
      "0s - loss: 1.3480 - acc: 0.3750\n",
      "Epoch 58/100\n",
      "0s - loss: 1.3383 - acc: 0.3750\n",
      "Epoch 59/100\n",
      "0s - loss: 1.3287 - acc: 0.3750\n",
      "Epoch 60/100\n",
      "0s - loss: 1.3193 - acc: 0.5000\n",
      "Epoch 61/100\n",
      "0s - loss: 1.3100 - acc: 0.5000\n",
      "Epoch 62/100\n",
      "0s - loss: 1.3009 - acc: 0.5000\n",
      "Epoch 63/100\n",
      "0s - loss: 1.2919 - acc: 0.5000\n",
      "Epoch 64/100\n",
      "0s - loss: 1.2831 - acc: 0.5000\n",
      "Epoch 65/100\n",
      "0s - loss: 1.2744 - acc: 0.5000\n",
      "Epoch 66/100\n",
      "0s - loss: 1.2658 - acc: 0.5000\n",
      "Epoch 67/100\n",
      "0s - loss: 1.2573 - acc: 0.5000\n",
      "Epoch 68/100\n",
      "0s - loss: 1.2489 - acc: 0.5000\n",
      "Epoch 69/100\n",
      "0s - loss: 1.2407 - acc: 0.5000\n",
      "Epoch 70/100\n",
      "0s - loss: 1.2326 - acc: 0.5000\n",
      "Epoch 71/100\n",
      "0s - loss: 1.2246 - acc: 0.5000\n",
      "Epoch 72/100\n",
      "0s - loss: 1.2167 - acc: 0.5000\n",
      "Epoch 73/100\n",
      "0s - loss: 1.2089 - acc: 0.5000\n",
      "Epoch 74/100\n",
      "0s - loss: 1.2012 - acc: 0.5000\n",
      "Epoch 75/100\n",
      "0s - loss: 1.1936 - acc: 0.5000\n",
      "Epoch 76/100\n",
      "0s - loss: 1.1862 - acc: 0.5000\n",
      "Epoch 77/100\n",
      "0s - loss: 1.1788 - acc: 0.5000\n",
      "Epoch 78/100\n",
      "0s - loss: 1.1716 - acc: 0.5000\n",
      "Epoch 79/100\n",
      "0s - loss: 1.1644 - acc: 0.5000\n",
      "Epoch 80/100\n",
      "0s - loss: 1.1573 - acc: 0.5000\n",
      "Epoch 81/100\n",
      "0s - loss: 1.1504 - acc: 0.5000\n",
      "Epoch 82/100\n",
      "0s - loss: 1.1435 - acc: 0.5000\n",
      "Epoch 83/100\n",
      "0s - loss: 1.1367 - acc: 0.5000\n",
      "Epoch 84/100\n",
      "0s - loss: 1.1301 - acc: 0.5000\n",
      "Epoch 85/100\n",
      "0s - loss: 1.1235 - acc: 0.5000\n",
      "Epoch 86/100\n",
      "0s - loss: 1.1170 - acc: 0.5000\n",
      "Epoch 87/100\n",
      "0s - loss: 1.1106 - acc: 0.5000\n",
      "Epoch 88/100\n",
      "0s - loss: 1.1043 - acc: 0.5000\n",
      "Epoch 89/100\n",
      "0s - loss: 1.0981 - acc: 0.5000\n",
      "Epoch 90/100\n",
      "0s - loss: 1.0920 - acc: 0.5000\n",
      "Epoch 91/100\n",
      "0s - loss: 1.0859 - acc: 0.5000\n",
      "Epoch 92/100\n",
      "0s - loss: 1.0800 - acc: 0.5000\n",
      "Epoch 93/100\n",
      "0s - loss: 1.0741 - acc: 0.5000\n",
      "Epoch 94/100\n",
      "0s - loss: 1.0683 - acc: 0.5000\n",
      "Epoch 95/100\n",
      "0s - loss: 1.0626 - acc: 0.5000\n",
      "Epoch 96/100\n",
      "0s - loss: 1.0570 - acc: 0.5000\n",
      "Epoch 97/100\n",
      "0s - loss: 1.0514 - acc: 0.5000\n",
      "Epoch 98/100\n",
      "0s - loss: 1.0460 - acc: 0.5000\n",
      "Epoch 99/100\n",
      "0s - loss: 1.0406 - acc: 0.5000\n",
      "Epoch 100/100\n",
      "0s - loss: 1.0353 - acc: 0.5000\n"
     ]
    },
    {
     "data": {
      "text/plain": [
       "<keras.callbacks.History at 0xac8ea58c>"
      ]
     },
     "execution_count": 17,
     "metadata": {},
     "output_type": "execute_result"
    }
   ],
   "source": [
    "model.compile(loss= 'categorical_crossentropy', optimizer='sgd', metrics=['accuracy'])\n",
    "\n",
    "model.fit(x_data, y_data, nb_epoch=100, verbose=2)"
   ]
  },
  {
   "cell_type": "code",
   "execution_count": 18,
   "metadata": {
    "collapsed": false
   },
   "outputs": [
    {
     "name": "stdout",
     "output_type": "stream",
     "text": [
      "1/1 [==============================] - 0s\n",
      "[1]\n",
      "1/1 [==============================] - 0s\n",
      "[0]\n"
     ]
    }
   ],
   "source": [
    "print(model.predict_classes(np.array([[1, 2, 1, 1]])))\n",
    "print(model.predict_classes(np.array([[1, 2, 5, 6]])))"
   ]
  }
 ],
 "metadata": {
  "kernelspec": {
   "display_name": "Python 2",
   "language": "python",
   "name": "python2"
  },
  "language_info": {
   "codemirror_mode": {
    "name": "ipython",
    "version": 2
   },
   "file_extension": ".py",
   "mimetype": "text/x-python",
   "name": "python",
   "nbconvert_exporter": "python",
   "pygments_lexer": "ipython2",
   "version": "2.7.12"
  }
 },
 "nbformat": 4,
 "nbformat_minor": 1
}
